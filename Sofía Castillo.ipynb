{
 "cells": [
  {
   "cell_type": "markdown",
   "id": "842ca147",
   "metadata": {},
   "source": [
    "Número correspondiente a 1 00110 1110110101\n",
    "\n",
    "$$\n",
    "f = \\sum_{i = 1}^{10}\\left(\\frac{b_i}{2}\\right)^i\\,,\n",
    "$$\n",
    "\n",
    "\n",
    "$$\n",
    "c = \\sum_{i = 1}^{5} b_i 2^{5 - i}\n",
    "$$\n",
    "\n",
    "El número total está dado por \n",
    "$$\n",
    "(-1)^{s} 2^{c-15}(1+f)\n",
    "$$\n",
    "\n"
   ]
  },
  {
   "cell_type": "code",
   "execution_count": 19,
   "id": "645ade39",
   "metadata": {},
   "outputs": [],
   "source": [
    "bin = [1,0,0,1,1,0,1,1,1,0,1,1,0,1,0,1] #transformar el número binario a una lista \n",
    "\n",
    "#Definición de listas\n",
    "s = int(bin[0]) #el primer elemento de la lista \"bin\"\n",
    "listc= bin[1:6] #los siguientes 5 dígitos forman una lista c\n",
    "listf= bin[6:17] #los siguientes 10 números forman otra lista f"
   ]
  },
  {
   "cell_type": "code",
   "execution_count": 18,
   "id": "06f831f0",
   "metadata": {},
   "outputs": [
    {
     "name": "stdout",
     "output_type": "stream",
     "text": [
      "-0.0037631988525390625\n"
     ]
    }
   ],
   "source": [
    "#Definición variables\n",
    "c = 0 #base c\n",
    "v = 1 #contador del lugar en la lista (la sumatoria comienza en uno)\n",
    "\n",
    "#Sumatoria para c\n",
    "for i in listc: \n",
    "    c = i*2**(5-v) + c \n",
    "    v+=1\n",
    "\n",
    "#Definición variables\n",
    "f = 0 #nº f\n",
    "u = 1 #contador del lugar en la lista (la sumatoria comienza en 1)\n",
    "\n",
    "#Sumatoria para f\n",
    "for i in listf:\n",
    "    f = (i/2)**(u)+f\n",
    "    u+=1\n",
    "\n",
    "#Calcula el número\n",
    "print(((-1)**s)*(2**(c-15))*(1+f))"
   ]
  },
  {
   "cell_type": "code",
   "execution_count": null,
   "id": "b70ddfcf",
   "metadata": {},
   "outputs": [],
   "source": []
  }
 ],
 "metadata": {
  "kernelspec": {
   "display_name": "Python 3 (ipykernel)",
   "language": "python",
   "name": "python3"
  },
  "language_info": {
   "codemirror_mode": {
    "name": "ipython",
    "version": 3
   },
   "file_extension": ".py",
   "mimetype": "text/x-python",
   "name": "python",
   "nbconvert_exporter": "python",
   "pygments_lexer": "ipython3",
   "version": "3.9.13"
  }
 },
 "nbformat": 4,
 "nbformat_minor": 5
}
