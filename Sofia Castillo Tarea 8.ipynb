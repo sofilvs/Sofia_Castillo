{
 "cells": [
  {
   "cell_type": "markdown",
   "metadata": {},
   "source": [
    "Los siguientes datos corresponden al cálculo numérico de una cierta propiedad estadística de la distribución de materia en el universo (el espectro de potencias) $P(k)$ en función del modo de Fourier $k$. Use la derivada numérica para encontrar $d\\ln P/d\\ln k$ en cada punto. Para estimar el error cometido en esta derivada numérica compare el resultado de la fórmula a tres puntos con el resultado de la fórmula a cinco puntos. Será necesario usar las fórmulas a tres y cinco puntos en los extremos que se encuentran en este mismo notebook."
   ]
  },
  {
   "cell_type": "code",
   "execution_count": 1,
   "metadata": {},
   "outputs": [],
   "source": [
    "#Importamos librerías\n",
    "import numpy as np\n",
    "import matplotlib.pyplot as plt"
   ]
  },
  {
   "cell_type": "code",
   "execution_count": 2,
   "metadata": {},
   "outputs": [],
   "source": [
    "datos = np.array([[5.531683013105e-04,       1.070304113861e+12],\n",
    "       [5.910227121702e-04,       1.139622191891e+12],\n",
    "       [6.315688849627e-04,       1.213481232452e+12],\n",
    "       [6.750065137883e-04,       1.292169597309e+12],\n",
    "       [7.215301959429e-04,       1.375954296780e+12],\n",
    "       [7.713235180257e-04,       1.465069697719e+12],\n",
    "       [8.245525173319e-04,       1.559705507566e+12],\n",
    "       [8.813589235833e-04,       1.659994890361e+12],\n",
    "       [9.418537183337e-04,       1.766003776663e+12],\n",
    "       [1.006111625261e-03,       1.877722471320e+12],\n",
    "       [1.074167130425e-03,       1.995060685935e+12],\n",
    "       [1.146012510269e-03,       2.117846703996e+12],\n",
    "       [1.221598126720e-03,       2.245831037960e+12],\n",
    "       [1.300834972303e-03,       2.378694410099e+12],\n",
    "       [1.383599172303e-03,       2.516052095865e+12],\n",
    "       [1.469737934874e-03,       2.657475892684e+12],\n",
    "       [1.559076324033e-03,       2.802524407596e+12],\n",
    "       [1.651424225675e-03,       2.950729179407e+12],\n",
    "       [1.746582964833e-03,       3.101618970269e+12],\n",
    "       [1.844351177716e-03,       3.254730780491e+12],\n",
    "       [1.944529704896e-03,       3.409618695392e+12],\n",
    "       [2.046925420592e-03,       3.565860320889e+12],\n",
    "       [2.151354028418e-03,       3.723061333248e+12],\n",
    "       [2.257641930146e-03,       3.880858018481e+12] ])"
   ]
  },
  {
   "cell_type": "code",
   "execution_count": 42,
   "metadata": {},
   "outputs": [],
   "source": [
    "#Leemos los datos de la tabla por columna, y como necesitamos el logaritmo, se calcula.\n",
    "P = np.log(datos[:, 0])\n",
    "K = np.log(datos[:, 1])"
   ]
  },
  {
   "cell_type": "code",
   "execution_count": 70,
   "metadata": {},
   "outputs": [],
   "source": [
    "#Derivada 3 puntos\n",
    "def deriv3_datos(fxo, fx2, h):\n",
    "    \"\"\"Función que calcula la derivada dado 2 puntos \n",
    "    -----\n",
    "    h = intervalo\n",
    "    \"\"\"\n",
    "    return (fx2 - fxo)/(2*h)\n",
    "\n",
    "#Derivada 3 puntos para los extremos\n",
    "def deriv3_extremo(fxo, fx1, fx2, h):\n",
    "    \"\"\"Función que calcula la derivada en los extremos dado 3 puntos\n",
    "    -----\n",
    "    h = intervalo\n",
    "    \"\"\"\n",
    "    return (-3*fxo + 4*fx1 - fx2)/(2*h)\n",
    "\n",
    "#Derivada 5 puntos\n",
    "def deriv5p(fxo, fx1, fx3, fx4, h):\n",
    "    \"\"\"Función que calcula la derivada dado 4 puntos\n",
    "    -----\n",
    "    h = intervalo\n",
    "    \"\"\"\n",
    "    return (fxo - 8*fx1 + 8*fx3 - fx4)/(12*h)\n",
    "\n",
    "#Derivada 5 puntos para los extremos\n",
    "def deriv5_extremo(fx0, fx1, fx2, fx3, fx4, h):\n",
    "    \"\"\"Función que calcula la derivada dado 4 puntos\n",
    "    -----\n",
    "    h = intervalo\n",
    "    \"\"\"\n",
    "    return (-25*fx0 + 48*fx1 - 36*fx2 + 16*fx3 - 3*fx4) / (12*h)"
   ]
  },
  {
   "cell_type": "code",
   "execution_count": 72,
   "metadata": {},
   "outputs": [],
   "source": [
    "def deriv_datos(fx, h):\n",
    "    \"\"\"Función que calcula las derivadas a 3 puntos de un array\n",
    "    -----\n",
    "    fx = array \n",
    "    h = intervalo\n",
    "    \"\"\"\n",
    "    n = len(fx)\n",
    "    deriv = np.zeros(n)\n",
    "    for i in range(n):\n",
    "        if i == 0:\n",
    "            deriv[i] = deriv3_extremo(fx[0], fx[1], fx[2], h) \n",
    "        elif i == n - 1:\n",
    "            deriv[i] = deriv3_extremo(fx[n-1], fx[n-2], fx[n-3], -h)\n",
    "        else:\n",
    "            deriv[i] = deriv3_datos(fx[i-1], fx[i+1], h)\n",
    "    return deriv"
   ]
  },
  {
   "cell_type": "code",
   "execution_count": 73,
   "metadata": {},
   "outputs": [],
   "source": [
    "def deriv_datos5(fx, h):\n",
    "    \"\"\"Función que calcula las derivadas a 5 puntos de un array\n",
    "    -----\n",
    "    fx = array \n",
    "    h = intervalo\n",
    "    \"\"\"\n",
    "    n = len(fx)\n",
    "    deriv = np.zeros(n)\n",
    "    for i in range(n):\n",
    "        if i < 1 :\n",
    "            deriv[i] = deriv5p_extremo(fx[0], fx[1], fx[2], fx[3], fx[4], h)\n",
    "        elif i > n - 3:\n",
    "            deriv[i] = deriv5p_extremo(fx[n-3], fx[n-4], fx[n-5], fx[n-6], fx[n-7], -h)\n",
    "        else:\n",
    "            deriv[i] = deriv5_datos(fx[i-2], fx[i-1], fx[i+1], fx[i+2], h)\n",
    "    return deriv"
   ]
  },
  {
   "cell_type": "code",
   "execution_count": 74,
   "metadata": {},
   "outputs": [
    {
     "data": {
      "text/plain": [
       "array([1.05386703, 1.05570881, 1.05764758, 1.0597908 , 1.06215473,\n",
       "       1.06475578, 1.06761052, 1.07073553, 1.0741473 , 1.07786198,\n",
       "       1.08189473, 1.08625917, 1.09096628, 1.09605069, 1.10153644,\n",
       "       1.10735282, 1.11347839, 1.11995727, 1.12678537, 1.1339578 ,\n",
       "       1.14146913, 1.14931321, 1.15748303, 1.16614909])"
      ]
     },
     "execution_count": 74,
     "metadata": {},
     "output_type": "execute_result"
    }
   ],
   "source": [
    "#Derivamos a 3 puntos y calculamos la fracción\n",
    "dP_3= deriv_datos(P, 0.1)\n",
    "dK_3 = deriv_datos(K, 0.1)\n",
    "derivada3 = dP_3/dK_3\n",
    "derivada3"
   ]
  },
  {
   "cell_type": "code",
   "execution_count": 75,
   "metadata": {},
   "outputs": [
    {
     "data": {
      "text/plain": [
       "array([1.05393011, 1.07773939, 1.05761323, 1.05975417, 1.06211625,\n",
       "       1.06471597, 1.06757004, 1.07069511, 1.07410783, 1.07782443,\n",
       "       1.0818602 , 1.08622889, 1.09093711, 1.09602518, 1.10153056,\n",
       "       1.10735808, 1.11348402, 1.11997146, 1.12680804, 1.13398871,\n",
       "       1.141508  , 1.14935974, 1.149358  , 1.149358  ])"
      ]
     },
     "execution_count": 75,
     "metadata": {},
     "output_type": "execute_result"
    }
   ],
   "source": [
    "#Derivamos a 5 puntos y calculamos la fracción\n",
    "dP_5 =deriv_datos5(P, 0.1)\n",
    "dK_5 =deriv_datos5(K, 0.1)\n",
    "derivada5 = dP_5/dK_5\n",
    "derivada5"
   ]
  },
  {
   "cell_type": "code",
   "execution_count": 76,
   "metadata": {},
   "outputs": [
    {
     "data": {
      "text/plain": [
       "<matplotlib.legend.Legend at 0x260b8b55d90>"
      ]
     },
     "execution_count": 76,
     "metadata": {},
     "output_type": "execute_result"
    },
    {
     "data": {
      "image/png": "[encoded data removed]",
      "text/plain": [
       "<Figure size 640x480 with 1 Axes>"
      ]
     },
     "metadata": {},
     "output_type": "display_data"
    }
   ],
   "source": [
    "#Graficamos para ver las diferencias\n",
    "plt.plot(dP_3, label = 'derivada 3 puntos')\n",
    "plt.plot(dP_5, label = 'derivada 5 puntos')\n",
    "plt.legend()"
   ]
  },
  {
   "cell_type": "code",
   "execution_count": 80,
   "metadata": {},
   "outputs": [
    {
     "data": {
      "text/plain": [
       "array([1.19602711e-04, 1.85150498e+00, 2.99255770e-05, 1.01346386e-04,\n",
       "       1.71542060e-04, 2.38021016e-04, 2.97900120e-04, 3.48179379e-04,\n",
       "       3.86089124e-04, 4.09457758e-04, 4.17030550e-04, 4.08670675e-04,\n",
       "       3.85395704e-04, 3.49240951e-04, 3.02982809e-04, 2.49785195e-04,\n",
       "       1.92841968e-04, 1.35076865e-04, 7.89375523e-05, 2.62929140e-05,\n",
       "       2.15793112e-05, 6.39394759e-05, 3.15330347e-02, 6.49010301e-02])"
      ]
     },
     "execution_count": 80,
     "metadata": {},
     "output_type": "execute_result"
    }
   ],
   "source": [
    "#Calculamos el error para cada dato\n",
    "error = abs(dP_3-dP_5)/abs(dP_3)\n",
    "error"
   ]
  },
  {
   "cell_type": "markdown",
   "metadata": {},
   "source": [
    "Como se puede apreciar tanto en el gráfico como en los datos de ambas derivadas, el error es mayor en los extremos de la curva. Por otro lado, en los valores de en medio el error se acerca a cero. "
   ]
  },
  {
   "cell_type": "markdown",
   "metadata": {},
   "source": []
  }
 ],
 "metadata": {
  "kernelspec": {
   "display_name": "venv",
   "language": "python",
   "name": "python3"
  },
  "language_info": {
   "codemirror_mode": {
    "name": "ipython",
    "version": 3
   },
   "file_extension": ".py",
   "mimetype": "text/x-python",
   "name": "python",
   "nbconvert_exporter": "python",
   "pygments_lexer": "ipython3",
   "version": "3.11.6"
  }
 },
 "nbformat": 4,
 "nbformat_minor": 2
}
