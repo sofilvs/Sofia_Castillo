{
 "cells": [
  {
   "cell_type": "markdown",
   "id": "29500781",
   "metadata": {},
   "source": [
    "En el problema de la urna al extraer seis bolas. \n",
    "\n",
    "* ¿Cuál es la probabilidad de que las primeras tres bolas no sean rojas?\n",
    "* ¿Cuál es la probabilidad de sacar dos bolas de cada color?"
   ]
  },
  {
   "cell_type": "markdown",
   "id": "8ee7f139",
   "metadata": {},
   "source": [
    "Tenemos una urna con 23 bolitas con 8 blancas, 6 azules, 9 rojas "
   ]
  },
  {
   "cell_type": "code",
   "execution_count": 48,
   "id": "068267a5",
   "metadata": {},
   "outputs": [],
   "source": [
    "#importamos la librería para utilizar combinatorias\n",
    "from scipy.special import comb"
   ]
  },
  {
   "cell_type": "code",
   "execution_count": 49,
   "id": "186dbdad",
   "metadata": {},
   "outputs": [],
   "source": [
    "# Valores \n",
    "bolas = 23 #nº total de bolitas\n",
    "blancas = 8 \n",
    "azules = 6\n",
    "rojas = 9\n",
    "bolas_extraidas = 6"
   ]
  },
  {
   "cell_type": "code",
   "execution_count": 50,
   "id": "03265c9a",
   "metadata": {},
   "outputs": [],
   "source": [
    "#Probabilidad de que las primeras 3 no sean rojas\n",
    "x = (comb((blancas+azules),3)*comb(rojas,3))/comb(bolas,6) "
   ]
  },
  {
   "cell_type": "code",
   "execution_count": 51,
   "id": "30e172e8",
   "metadata": {},
   "outputs": [],
   "source": [
    "#Probabilidad de sacar 2 bolas de cada color\n",
    "y = (comb(azules,2)*comb(rojas,2)*comb(blancas,2))/comb(bolas,6)"
   ]
  },
  {
   "cell_type": "code",
   "execution_count": 52,
   "id": "622dc938",
   "metadata": {},
   "outputs": [
    {
     "name": "stdout",
     "output_type": "stream",
     "text": [
      "La probabilidad de que las primeras 3 no sean rojas es de 0.3028916163927606\n"
     ]
    }
   ],
   "source": [
    "print('La probabilidad de que las primeras 3 no sean rojas es de', x)"
   ]
  },
  {
   "cell_type": "code",
   "execution_count": 53,
   "id": "ef51a087",
   "metadata": {},
   "outputs": [
    {
     "name": "stdout",
     "output_type": "stream",
     "text": [
      "La probabilidad de sacar dos bolas de cada color es de 0.1497815685458706\n"
     ]
    }
   ],
   "source": [
    "print('La probabilidad de sacar dos bolas de cada color es de', y)"
   ]
  }
 ],
 "metadata": {
  "kernelspec": {
   "display_name": "Python 3 (ipykernel)",
   "language": "python",
   "name": "python3"
  },
  "language_info": {
   "codemirror_mode": {
    "name": "ipython",
    "version": 3
   },
   "file_extension": ".py",
   "mimetype": "text/x-python",
   "name": "python",
   "nbconvert_exporter": "python",
   "pygments_lexer": "ipython3",
   "version": "3.9.13"
  }
 },
 "nbformat": 4,
 "nbformat_minor": 5
}
