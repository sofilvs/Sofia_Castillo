{
 "cells": [
  {
   "cell_type": "code",
   "execution_count": 1,
   "id": "97f65d85",
   "metadata": {},
   "outputs": [],
   "source": [
    "import numpy as np\n",
    "import matplotlib.pyplot as plt"
   ]
  },
  {
   "cell_type": "code",
   "execution_count": 2,
   "id": "f24b8cd2",
   "metadata": {},
   "outputs": [],
   "source": [
    "class maxiterations(Exception):\n",
    "    pass"
   ]
  },
  {
   "cell_type": "code",
   "execution_count": 3,
   "id": "a25886e5",
   "metadata": {},
   "outputs": [],
   "source": [
    "def newtonftme(f, df, p1, epsilon, n= 1000000): #fusión función newton\n",
    "    \"\"\" Método de Newton \n",
    "    ----\n",
    "    Encuentra los ceros de una función y muestra el nº de iteraciones\n",
    "    ----\n",
    "    f = función\n",
    "    df = derivada de la función\n",
    "    p1 = valor cercano al cero\n",
    "    epsilon = valor de tolerancia\n",
    "    n = nº iteraciones  \n",
    "    \"\"\"\n",
    "    for i in range(n): #iteramos \n",
    "        i=0            #definimos i\n",
    "        while i < n:   #mientras i sea menor al nº de iteraciones,\n",
    "            p = p1 - f(p1)/df(p1)  #calcula p\n",
    "            if abs(p-p1)/abs(p) < epsilon: #y si es menor a la tolerancia lo muestra\n",
    "                return p, i+1 \n",
    "            p1 = p #si no es el caso, cambia el valor de p1 por uno nuevo\n",
    "            i += 1 #el contador va subiendo\n",
    "        raise maxiterations(\"No se encontró el cero después de\", N, \"iteraciones.\")   "
   ]
  },
  {
   "cell_type": "code",
   "execution_count": 4,
   "id": "55849dff",
   "metadata": {},
   "outputs": [],
   "source": [
    "def f(x): \n",
    "    \"\"\"Función a utilizar\"\"\"\n",
    "    return x- np.cos(x)\n",
    "\n",
    "def df(x):\n",
    "    \"\"\"Derivada de la función \"\"\"\n",
    "    return 1 + np.sin(x)"
   ]
  },
  {
   "cell_type": "code",
   "execution_count": 5,
   "id": "e7a48b27",
   "metadata": {},
   "outputs": [
    {
     "data": {
      "text/plain": [
       "(0.7390851332151607, 8)"
      ]
     },
     "execution_count": 5,
     "metadata": {},
     "output_type": "execute_result"
    }
   ],
   "source": [
    "#En el caso que no conociera la función, elegimos un punto de partida p1=-1\n",
    "newtonftme(f,df,-1,1e-6)"
   ]
  },
  {
   "cell_type": "code",
   "execution_count": 6,
   "id": "7142a0c2",
   "metadata": {},
   "outputs": [],
   "source": [
    "from scipy import optimize #impotamos la librería para utilizar el método de newton"
   ]
  },
  {
   "cell_type": "code",
   "execution_count": 7,
   "id": "a748bd6c",
   "metadata": {},
   "outputs": [
    {
     "data": {
      "text/plain": [
       "0.7390851332151607"
      ]
     },
     "execution_count": 7,
     "metadata": {},
     "output_type": "execute_result"
    }
   ],
   "source": [
    "optimize.newton(f,-1, df) #con la misma información que entregamos a nuestra función"
   ]
  },
  {
   "cell_type": "code",
   "execution_count": 8,
   "id": "d8183087",
   "metadata": {},
   "outputs": [],
   "source": [
    "import time #esta librería nos ayuda a medir el tiempo de las operaciones"
   ]
  },
  {
   "cell_type": "code",
   "execution_count": 9,
   "id": "5d24a48c",
   "metadata": {},
   "outputs": [],
   "source": [
    "time0 = time.time() #tiempo dado\n",
    "newton= newtonftme(f, df, 8, 1e-6) #se ejecuta la función\n",
    "tf_newton= time.time()-time0 #tiempo final"
   ]
  },
  {
   "cell_type": "code",
   "execution_count": 10,
   "id": "a973aae3",
   "metadata": {},
   "outputs": [],
   "source": [
    "time1 = time.time()\n",
    "scipy= optimize.newton(f,8, df)\n",
    "tf_spicy= time.time()-time1"
   ]
  },
  {
   "cell_type": "code",
   "execution_count": 11,
   "id": "4b579133",
   "metadata": {},
   "outputs": [
    {
     "name": "stdout",
     "output_type": "stream",
     "text": [
      "El tiempo de la función newton es de  0.0019989013671875 y el de scipy es 0.013331413269042969\n"
     ]
    }
   ],
   "source": [
    "print(\"El tiempo de la función newton es de \",tf_newton , \"y el de scipy es\", tf_spicy)"
   ]
  },
  {
   "cell_type": "markdown",
   "id": "e8216d24",
   "metadata": {},
   "source": [
    "Estuve mirando cómo cambiaba el tiempo en ambas según el número que colocaba y variaba mucho. Si colocaba $p1=0$ mi función calculaba un poco más rápido, incluso con números grandes. Creo que se debe a que conozco la derivada de la función."
   ]
  },
  {
   "cell_type": "markdown",
   "id": "36a21070",
   "metadata": {},
   "source": [
    "# Calificacion: 7.0"
   ]
  }
 ],
 "metadata": {
  "kernelspec": {
   "display_name": "Python 3 (ipykernel)",
   "language": "python",
   "name": "python3"
  },
  "language_info": {
   "codemirror_mode": {
    "name": "ipython",
    "version": 3
   },
   "file_extension": ".py",
   "mimetype": "text/x-python",
   "name": "python",
   "nbconvert_exporter": "python",
   "pygments_lexer": "ipython3",
   "version": "3.11.5"
  }
 },
 "nbformat": 4,
 "nbformat_minor": 5
}
