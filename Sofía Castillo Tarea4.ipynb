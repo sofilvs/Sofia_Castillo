{
 "cells": [
  {
   "cell_type": "markdown",
   "id": "2fe70abd",
   "metadata": {},
   "source": [
    "\n",
    "Escriba un código que le asigne tareas a los estudiantes. La lista de 20 estudiantes está en un archivo estudiantes.txt. Hay un nombre de estudiante por línea. Su código debe asignarle a cada estudiante un número entre 1 y 10 que corresponde a la tarea que debe resolver. La distribución de tareas debe ser aleatoria pero cada número debe aparecer exactamente dos veces en la lista.\n",
    "\n",
    "El código debe producir un archivo con dos columnas llamado \"tarea.txt\", la primera columna contiene el nombre del estudiante y la segunda columna contiene la tarea asignada."
   ]
  },
  {
   "cell_type": "code",
   "execution_count": 3,
   "id": "d2ed3576",
   "metadata": {},
   "outputs": [],
   "source": [
    "import random "
   ]
  },
  {
   "cell_type": "code",
   "execution_count": 4,
   "id": "de258045",
   "metadata": {},
   "outputs": [],
   "source": [
    "#Primero defino una lista de números del 1 al 10\n",
    "tareas = list(range(1,11))\n",
    "\n",
    "#Duplico la lista, para tener la misma cantidad de tareas y estudiantes\n",
    "tareas *=2\n",
    "\n",
    "#Ruta del archivo en el computador (para uno distinto, copiar y pegar ruta)\n",
    "ruta = '/home/sofia/Tareas2023/estudiantes.txt' \n",
    "\n",
    "#Leemos el archivo y guardamos cada linea en una lista\n",
    "with open(ruta ,'r') as file:\n",
    "    estudiante = file.read().splitlines()"
   ]
  },
  {
   "cell_type": "code",
   "execution_count": 5,
   "id": "1ae1ebbe",
   "metadata": {},
   "outputs": [],
   "source": [
    "#Con el paquete random shuffle, los elementos de las listas cambian de orden \n",
    "random.shuffle(tareas)"
   ]
  },
  {
   "cell_type": "code",
   "execution_count": 6,
   "id": "caff6c49",
   "metadata": {},
   "outputs": [],
   "source": [
    "#Creamos el archivo tarea.txt y escribimos en él\n",
    "with open ('tarea.txt', 'w') as file:\n",
    " for i in range(len(estudiante)): #itera el largo de la lista\n",
    "    texto = f'{estudiante[i]} : {tareas[i]}\\n' #cadena con formato de columnas\n",
    "    file.write(texto) #escribe en el texto"
   ]
  }
 ],
 "metadata": {
  "kernelspec": {
   "display_name": "Python 3 (ipykernel)",
   "language": "python",
   "name": "python3"
  },
  "language_info": {
   "codemirror_mode": {
    "name": "ipython",
    "version": 3
   },
   "file_extension": ".py",
   "mimetype": "text/x-python",
   "name": "python",
   "nbconvert_exporter": "python",
   "pygments_lexer": "ipython3",
   "version": "3.9.13"
  }
 },
 "nbformat": 4,
 "nbformat_minor": 5
}
