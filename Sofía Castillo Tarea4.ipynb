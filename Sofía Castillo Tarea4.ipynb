{
 "cells": [
  {
   "cell_type": "markdown",
   "id": "2fe70abd",
   "metadata": {},
   "source": [
    "\n",
    "Escriba un código que le asigne tareas a los estudiantes. La lista de 20 estudiantes está en un archivo estudiantes.txt. Hay un nombre de estudiante por línea. Su código debe asignarle a cada estudiante un número entre 1 y 10 que corresponde a la tarea que debe resolver. La distribución de tareas debe ser aleatoria pero cada número debe aparecer exactamente dos veces en la lista.\n",
    "\n",
    "El código debe producir un archivo con dos columnas llamado \"tarea.txt\", la primera columna contiene el nombre del estudiante y la segunda columna contiene la tarea asignada."
   ]
  },
  {
   "cell_type": "code",
   "execution_count": 1,
   "id": "d2ed3576",
   "metadata": {},
   "outputs": [],
   "source": [
    "import random "
   ]
  },
  {
   "cell_type": "code",
   "execution_count": 2,
   "id": "de258045",
   "metadata": {},
   "outputs": [
    {
     "ename": "FileNotFoundError",
     "evalue": "[Errno 2] No such file or directory: '/home/sofia/Tareas2023/estudiantes.txt'",
     "output_type": "error",
     "traceback": [
      "\u001b[0;31m---------------------------------------------------------------------------\u001b[0m",
      "\u001b[0;31mFileNotFoundError\u001b[0m                         Traceback (most recent call last)",
      "Cell \u001b[0;32mIn[2], line 11\u001b[0m\n\u001b[1;32m      8\u001b[0m ruta \u001b[38;5;241m=\u001b[39m \u001b[38;5;124m'\u001b[39m\u001b[38;5;124m/home/sofia/Tareas2023/estudiantes.txt\u001b[39m\u001b[38;5;124m'\u001b[39m \n\u001b[1;32m     10\u001b[0m \u001b[38;5;66;03m#Leemos el archivo y guardamos cada linea en una lista\u001b[39;00m\n\u001b[0;32m---> 11\u001b[0m \u001b[38;5;28;01mwith\u001b[39;00m \u001b[38;5;28;43mopen\u001b[39;49m\u001b[43m(\u001b[49m\u001b[43mruta\u001b[49m\u001b[43m \u001b[49m\u001b[43m,\u001b[49m\u001b[38;5;124;43m'\u001b[39;49m\u001b[38;5;124;43mr\u001b[39;49m\u001b[38;5;124;43m'\u001b[39;49m\u001b[43m)\u001b[49m \u001b[38;5;28;01mas\u001b[39;00m file:\n\u001b[1;32m     12\u001b[0m     estudiante \u001b[38;5;241m=\u001b[39m file\u001b[38;5;241m.\u001b[39mread()\u001b[38;5;241m.\u001b[39msplitlines()\n",
      "File \u001b[0;32m~/.local/lib/python3.10/site-packages/IPython/core/interactiveshell.py:282\u001b[0m, in \u001b[0;36m_modified_open\u001b[0;34m(file, *args, **kwargs)\u001b[0m\n\u001b[1;32m    275\u001b[0m \u001b[38;5;28;01mif\u001b[39;00m file \u001b[38;5;129;01min\u001b[39;00m {\u001b[38;5;241m0\u001b[39m, \u001b[38;5;241m1\u001b[39m, \u001b[38;5;241m2\u001b[39m}:\n\u001b[1;32m    276\u001b[0m     \u001b[38;5;28;01mraise\u001b[39;00m \u001b[38;5;167;01mValueError\u001b[39;00m(\n\u001b[1;32m    277\u001b[0m         \u001b[38;5;124mf\u001b[39m\u001b[38;5;124m\"\u001b[39m\u001b[38;5;124mIPython won\u001b[39m\u001b[38;5;124m'\u001b[39m\u001b[38;5;124mt let you open fd=\u001b[39m\u001b[38;5;132;01m{\u001b[39;00mfile\u001b[38;5;132;01m}\u001b[39;00m\u001b[38;5;124m by default \u001b[39m\u001b[38;5;124m\"\u001b[39m\n\u001b[1;32m    278\u001b[0m         \u001b[38;5;124m\"\u001b[39m\u001b[38;5;124mas it is likely to crash IPython. If you know what you are doing, \u001b[39m\u001b[38;5;124m\"\u001b[39m\n\u001b[1;32m    279\u001b[0m         \u001b[38;5;124m\"\u001b[39m\u001b[38;5;124myou can use builtins\u001b[39m\u001b[38;5;124m'\u001b[39m\u001b[38;5;124m open.\u001b[39m\u001b[38;5;124m\"\u001b[39m\n\u001b[1;32m    280\u001b[0m     )\n\u001b[0;32m--> 282\u001b[0m \u001b[38;5;28;01mreturn\u001b[39;00m \u001b[43mio_open\u001b[49m\u001b[43m(\u001b[49m\u001b[43mfile\u001b[49m\u001b[43m,\u001b[49m\u001b[43m \u001b[49m\u001b[38;5;241;43m*\u001b[39;49m\u001b[43margs\u001b[49m\u001b[43m,\u001b[49m\u001b[43m \u001b[49m\u001b[38;5;241;43m*\u001b[39;49m\u001b[38;5;241;43m*\u001b[39;49m\u001b[43mkwargs\u001b[49m\u001b[43m)\u001b[49m\n",
      "\u001b[0;31mFileNotFoundError\u001b[0m: [Errno 2] No such file or directory: '/home/sofia/Tareas2023/estudiantes.txt'"
     ]
    }
   ],
   "source": [
    "#Primero defino una lista de números del 1 al 10\n",
    "tareas = list(range(1,11))\n",
    "\n",
    "#Duplico la lista, para tener la misma cantidad de tareas y estudiantes\n",
    "tareas *=2\n",
    "\n",
    "#Ruta del archivo en el computador (para uno distinto, copiar y pegar ruta)\n",
    "ruta = '/home/sofia/Tareas2023/estudiantes.txt' \n",
    "\n",
    "#Leemos el archivo y guardamos cada linea en una lista\n",
    "with open(ruta ,'r') as file:\n",
    "    estudiante = file.read().splitlines()"
   ]
  },
  {
   "cell_type": "code",
   "execution_count": null,
   "id": "1ae1ebbe",
   "metadata": {},
   "outputs": [],
   "source": [
    "#Con el paquete random shuffle, los elementos de las listas cambian de orden \n",
    "random.shuffle(tareas)"
   ]
  },
  {
   "cell_type": "code",
   "execution_count": 3,
   "id": "caff6c49",
   "metadata": {},
   "outputs": [
    {
     "ename": "NameError",
     "evalue": "name 'estudiante' is not defined",
     "output_type": "error",
     "traceback": [
      "\u001b[0;31m---------------------------------------------------------------------------\u001b[0m",
      "\u001b[0;31mNameError\u001b[0m                                 Traceback (most recent call last)",
      "Cell \u001b[0;32mIn[3], line 3\u001b[0m\n\u001b[1;32m      1\u001b[0m \u001b[38;5;66;03m#Creamos el archivo tarea.txt y escribimos en él\u001b[39;00m\n\u001b[1;32m      2\u001b[0m \u001b[38;5;28;01mwith\u001b[39;00m \u001b[38;5;28mopen\u001b[39m (\u001b[38;5;124m'\u001b[39m\u001b[38;5;124mtarea.txt\u001b[39m\u001b[38;5;124m'\u001b[39m, \u001b[38;5;124m'\u001b[39m\u001b[38;5;124mw\u001b[39m\u001b[38;5;124m'\u001b[39m) \u001b[38;5;28;01mas\u001b[39;00m file:\n\u001b[0;32m----> 3\u001b[0m  \u001b[38;5;28;01mfor\u001b[39;00m i \u001b[38;5;129;01min\u001b[39;00m \u001b[38;5;28mrange\u001b[39m(\u001b[38;5;28mlen\u001b[39m(\u001b[43mestudiante\u001b[49m)): \u001b[38;5;66;03m#itera el largo de la lista\u001b[39;00m\n\u001b[1;32m      4\u001b[0m     texto \u001b[38;5;241m=\u001b[39m \u001b[38;5;124mf\u001b[39m\u001b[38;5;124m'\u001b[39m\u001b[38;5;132;01m{\u001b[39;00mestudiante[i]\u001b[38;5;132;01m}\u001b[39;00m\u001b[38;5;124m : \u001b[39m\u001b[38;5;132;01m{\u001b[39;00mtareas[i]\u001b[38;5;132;01m}\u001b[39;00m\u001b[38;5;130;01m\\n\u001b[39;00m\u001b[38;5;124m'\u001b[39m \u001b[38;5;66;03m#cadena con formato de columnas\u001b[39;00m\n\u001b[1;32m      5\u001b[0m     file\u001b[38;5;241m.\u001b[39mwrite(texto) \u001b[38;5;66;03m#escribe en el texto\u001b[39;00m\n",
      "\u001b[0;31mNameError\u001b[0m: name 'estudiante' is not defined"
     ]
    }
   ],
   "source": [
    "#Creamos el archivo tarea.txt y escribimos en él\n",
    "with open ('tarea.txt', 'w') as file:\n",
    " for i in range(len(estudiante)): #itera el largo de la lista\n",
    "    texto = f'{estudiante[i]} : {tareas[i]}\\n' #cadena con formato de columnas\n",
    "    file.write(texto) #escribe en el texto"
   ]
  },
  {
   "cell_type": "markdown",
   "id": "5c1c33d3",
   "metadata": {},
   "source": [
    "# Calificacion: 7.0\n",
    "\n",
    "Para la proxima, en este tipo de tareas te recomiendo tener una celda de codigo que genere el archivo con el cual trabajar, asi puedo correr el codigo sin problemas"
   ]
  }
 ],
 "metadata": {
  "kernelspec": {
   "display_name": "Python 3 (ipykernel)",
   "language": "python",
   "name": "python3"
  },
  "language_info": {
   "codemirror_mode": {
    "name": "ipython",
    "version": 3
   },
   "file_extension": ".py",
   "mimetype": "text/x-python",
   "name": "python",
   "nbconvert_exporter": "python",
   "pygments_lexer": "ipython3",
   "version": "3.10.9"
  }
 },
 "nbformat": 4,
 "nbformat_minor": 5
}
