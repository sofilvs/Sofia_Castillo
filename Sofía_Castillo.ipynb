{
 "cells": [
  {
   "cell_type": "markdown",
   "id": "4c1a2ef4",
   "metadata": {},
   "source": [
    "#    Velocidad inicial de una bola"
   ]
  },
  {
   "cell_type": "code",
   "execution_count": 1,
   "id": "4845c2b5",
   "metadata": {},
   "outputs": [
    {
     "name": "stdout",
     "output_type": "stream",
     "text": [
      "La velocidad inicial de una bola que cae a 2 metros en 0.3 segundos es de 8.137 m/s\n"
     ]
    }
   ],
   "source": [
    "#Asignación de variables\n",
    "\n",
    "x = 2  #distancia en metros\n",
    "t = 0.3 #tiempo en seg\n",
    "g = 9.8 #gravedad\n",
    "\n",
    "v = (x/t)+ (0.5 * g*t) #fórmula velocidad inicial\n",
    "\n",
    "\n",
    "#imprime la respuesta con un redondeo al tercer decimal\n",
    "print (\"La velocidad inicial de una bola que cae a\", x , \"metros en\", t, \"segundos es de\", round(v,3),\"m/s\" )"
   ]
  },
  {
   "cell_type": "markdown",
   "id": "a882d101",
   "metadata": {},
   "source": [
    "# Calificacion: 7.0"
   ]
  }
 ],
 "metadata": {
  "kernelspec": {
   "display_name": "Python 3 (ipykernel)",
   "language": "python",
   "name": "python3"
  },
  "language_info": {
   "codemirror_mode": {
    "name": "ipython",
    "version": 3
   },
   "file_extension": ".py",
   "mimetype": "text/x-python",
   "name": "python",
   "nbconvert_exporter": "python",
   "pygments_lexer": "ipython3",
   "version": "3.10.9"
  }
 },
 "nbformat": 4,
 "nbformat_minor": 5
}
